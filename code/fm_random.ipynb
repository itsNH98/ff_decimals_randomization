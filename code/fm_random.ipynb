{
 "cells": [
  {
   "attachments": {},
   "cell_type": "markdown",
   "metadata": {},
   "source": [
    "# Fama-French Randomization with FM Regressions\n",
    "\n",
    "By Nicolas Harvie\n",
    "\n",
    "Objective of this project is to see the impact of randomization in decimals of the Fama-French factors on the Fama-Macbeth regression that is used to assess the significance of new anomalies.\n",
    "***"
   ]
  },
  {
   "cell_type": "code",
   "execution_count": 1,
   "metadata": {},
   "outputs": [],
   "source": [
    "import pandas as pd\n",
    "import numpy as np\n",
    "import statsmodels.api as sm\n",
    "import pandas_datareader as pdr\n",
    "from IPython.display import Image\n",
    "import seaborn as sns\n",
    "import glob\n",
    "\n",
    "import warnings\n",
    "warnings.filterwarnings('ignore')"
   ]
  },
  {
   "attachments": {},
   "cell_type": "markdown",
   "metadata": {},
   "source": [
    "***\n",
    "## Setup\n",
    "Loading three datasets:\n",
    "1. FF Monthly Factors\n",
    "2. Monthly returns\n",
    "3. Monthly risk premia of additional factors"
   ]
  },
  {
   "cell_type": "code",
   "execution_count": 2,
   "metadata": {},
   "outputs": [],
   "source": [
    "# Importing the 5 Factors \n",
    "FF_five_with_rf= pdr.get_data_famafrench('F-F_Research_Data_5_Factors_2x3', start='1900')[0]\n",
    "FF_three_with_rf = FF_five_with_rf.drop(columns={'RMW', 'CMA'})"
   ]
  },
  {
   "cell_type": "code",
   "execution_count": 4,
   "metadata": {},
   "outputs": [],
   "source": [
    "# Loading Benchmark Cross-Section from CRSP\n",
    "crsp_mret = pd.read_csv('../data/returns.csv', parse_dates=['MthCalDt'], index_col = 'MthCalDt')\n",
    "crsp_mret.index = crsp_mret.index.to_period('M')\n",
    "\n",
    "# DataFrame containing the premia for new predictors\n",
    "chen_factors = pd.read_csv('../data/chen_predictors.csv', parse_dates=['date'], index_col='date')\n",
    "chen_factors.index = chen_factors.index.to_period('M')"
   ]
  },
  {
   "attachments": {},
   "cell_type": "markdown",
   "metadata": {},
   "source": [
    "***\n",
    "## Merging\n",
    "Here we merge de returns dataframe with the FF Factors and the additional factor we want to test"
   ]
  },
  {
   "cell_type": "code",
   "execution_count": 52,
   "metadata": {},
   "outputs": [],
   "source": [
    "# Code Function that merges the adequate FF specification, and the adequate factor \n",
    "\n",
    "def merge_df(ff_df, ret_df, factor):\n",
    "    '''\n",
    "    Function that merges all the adequate DFs for our analysis \n",
    "    Parameters: \n",
    "    ff_df: Fama-French Specification \n",
    "    ret_df: Returns DF\n",
    "    factor: The Adequate Factor we want to incorporate into the FM2 \n",
    "    '''\n",
    "    \n",
    "    # Merging Returns and adequate FF specification \n",
    "    merged_df = pd.merge(ret_df, ff_df, left_index=True, right_index=True)\n",
    "\n",
    "    # Merging previous dataframe to the new factors\n",
    "    merged_df = pd.merge(merged_df, chen_factors[factor], left_index=True, right_index=True)\n",
    "\n",
    "    # Calculation of ExRet\n",
    "    merged_df['ExRet'] = (merged_df['MthRet'] - (merged_df['RF'] / 100))\n",
    "\n",
    "    # Bit of Cleaning\n",
    "    merged_df = merged_df.drop(columns={'RF'})\n",
    "    merged_df.insert(3, 'ExRet', merged_df.pop('ExRet'))    \n",
    "    \n",
    "    return merged_df \n"
   ]
  },
  {
   "attachments": {},
   "cell_type": "markdown",
   "metadata": {},
   "source": [
    "***\n",
    "## Fama-Macbeth Outline"
   ]
  },
  {
   "attachments": {},
   "cell_type": "markdown",
   "metadata": {},
   "source": [
    "The Fama-Macbeth regression is a two-step procedure, where in the first step, we estimate the factor loadings for each firm using time-series regression, and in the second step, we estimate the risk premia for each factor using cross-sectional regression."
   ]
  },
  {
   "cell_type": "code",
   "execution_count": 55,
   "metadata": {},
   "outputs": [],
   "source": [
    "# Group data by asset\n",
    "groups = merge_df(ff_df = FF_three_with_rf, ret_df=crsp_mret, factor='Accruals').groupby('PERMNO')"
   ]
  },
  {
   "cell_type": "code",
   "execution_count": 56,
   "metadata": {},
   "outputs": [],
   "source": [
    "###=== FIRST STAGE FUNCTION ===###\n",
    "\n",
    "def reg_func(group):\n",
    "    \"\"\"\n",
    "    Function that returns the loadings for each factors for each asset (PERMNO)\n",
    "\n",
    "    Arguments: \n",
    "    group: Refers to the dataframe of the asset in question \n",
    "\n",
    "    Returns:\n",
    "    An len(PERMNO.unique())x len(factor) DF returns the loadings for each factors for each asset (PERMNO)\n",
    "    \"\"\"\n",
    "\n",
    "    # Applying randomness to the FF Factors if desired\n",
    "    group[['Mkt-RF', 'SMB', 'HML']] = group[['Mkt-RF', 'SMB', 'HML']] + np.random.uniform(-0.005, 0.005, size=group[['Mkt-RF', 'SMB', 'HML']].shape)\n",
    "    \n",
    "    # Setting an X Value that includes constant and new factor\n",
    "    X = sm.add_constant(group.iloc[:, 4:])\n",
    "    \n",
    "    # Regression\n",
    "    model = sm.OLS(group['ExRet'], X)\n",
    "    results = model.fit()\n",
    "    \n",
    "    # Returns the results\n",
    "    return results.params[0:]"
   ]
  },
  {
   "cell_type": "code",
   "execution_count": 57,
   "metadata": {},
   "outputs": [],
   "source": [
    "# Base scenario \n",
    "base = groups.apply(reg_func).unstack()"
   ]
  },
  {
   "cell_type": "code",
   "execution_count": 47,
   "metadata": {},
   "outputs": [],
   "source": [
    "###=== SIMULATION FUNCTION ===#\n",
    "# Simulations are already made, see 'simulations' folder \n",
    "\n",
    "# def make_simulations(n):\n",
    "#     \"\"\"\n",
    "#     Function that runs a number of simulations for alternative FF Randomized DFs to give alternative beta coefficients \n",
    "#     \"\"\"\n",
    "#     d = {}\n",
    "    \n",
    "#     for i in range(n):\n",
    "#         d[i] = groups.apply(reg_func)\n",
    "\n",
    "#     return d"
   ]
  },
  {
   "cell_type": "code",
   "execution_count": 11,
   "metadata": {},
   "outputs": [],
   "source": [
    "def grab_simulations():\n",
    "    folder_path = '../data/simulations'\n",
    "\n",
    "    # Specify the file extension or pattern to match\n",
    "    file_extension = '*.csv'  # Change this to match the file extension of your dataframes\n",
    "\n",
    "    # Get a list of file paths that match the specified pattern\n",
    "    file_paths = glob.glob(f\"{folder_path}/{file_extension}\")\n",
    "\n",
    "    # Create an empty list to store the dataframes\n",
    "    dataframes = []\n",
    "\n",
    "    # Iterate over each file path and read the dataframe\n",
    "    for file_path in file_paths:\n",
    "        df = pd.read_csv(file_path)  # Adjust this if your dataframes are in a different format\n",
    "        dataframes.append(df)\n",
    "    return dataframes"
   ]
  },
  {
   "cell_type": "code",
   "execution_count": 12,
   "metadata": {},
   "outputs": [],
   "source": [
    "simulations = grab_simulations()"
   ]
  },
  {
   "attachments": {},
   "cell_type": "markdown",
   "metadata": {},
   "source": [
    "## Fama-Macbeth Second Step"
   ]
  },
  {
   "cell_type": "code",
   "execution_count": 58,
   "metadata": {},
   "outputs": [],
   "source": [
    "# Merging the FF and Ret DF\n",
    "all_df = merge_df(ff_df = FF_three_with_rf, ret_df=crsp_mret, factor='Accruals')"
   ]
  },
  {
   "cell_type": "code",
   "execution_count": 59,
   "metadata": {},
   "outputs": [
    {
     "data": {
      "text/html": [
       "<table class=\"simpletable\">\n",
       "<caption>OLS Regression Results</caption>\n",
       "<tr>\n",
       "  <th>Dep. Variable:</th>          <td>ExRet</td>      <th>  R-squared:         </th>  <td>   0.078</td> \n",
       "</tr>\n",
       "<tr>\n",
       "  <th>Model:</th>                   <td>OLS</td>       <th>  Adj. R-squared:    </th>  <td>   0.078</td> \n",
       "</tr>\n",
       "<tr>\n",
       "  <th>Method:</th>             <td>Least Squares</td>  <th>  F-statistic:       </th>  <td>8.128e+04</td>\n",
       "</tr>\n",
       "<tr>\n",
       "  <th>Date:</th>             <td>Wed, 26 Jul 2023</td> <th>  Prob (F-statistic):</th>   <td>  0.00</td>  \n",
       "</tr>\n",
       "<tr>\n",
       "  <th>Time:</th>                 <td>12:18:33</td>     <th>  Log-Likelihood:    </th> <td>1.5869e+06</td>\n",
       "</tr>\n",
       "<tr>\n",
       "  <th>No. Observations:</th>      <td>3825220</td>     <th>  AIC:               </th> <td>-3.174e+06</td>\n",
       "</tr>\n",
       "<tr>\n",
       "  <th>Df Residuals:</th>          <td>3825215</td>     <th>  BIC:               </th> <td>-3.174e+06</td>\n",
       "</tr>\n",
       "<tr>\n",
       "  <th>Df Model:</th>              <td>     4</td>      <th>                     </th>      <td> </td>    \n",
       "</tr>\n",
       "<tr>\n",
       "  <th>Covariance Type:</th>      <td>nonrobust</td>    <th>                     </th>      <td> </td>    \n",
       "</tr>\n",
       "</table>\n",
       "<table class=\"simpletable\">\n",
       "<tr>\n",
       "      <td></td>        <th>coef</th>     <th>std err</th>      <th>t</th>      <th>P>|t|</th>  <th>[0.025</th>    <th>0.975]</th>  \n",
       "</tr>\n",
       "<tr>\n",
       "  <th>const</th>    <td>    0.0001</td> <td> 9.78e-05</td> <td>    1.463</td> <td> 0.144</td> <td>-4.86e-05</td> <td>    0.000</td>\n",
       "</tr>\n",
       "<tr>\n",
       "  <th>Mkt-RF</th>   <td>    0.0103</td> <td> 1.82e-05</td> <td>  569.833</td> <td> 0.000</td> <td>    0.010</td> <td>    0.010</td>\n",
       "</tr>\n",
       "<tr>\n",
       "  <th>SMB</th>      <td>    0.0732</td> <td>    0.005</td> <td>   13.697</td> <td> 0.000</td> <td>    0.063</td> <td>    0.084</td>\n",
       "</tr>\n",
       "<tr>\n",
       "  <th>HML</th>      <td>    0.0785</td> <td>    0.004</td> <td>   17.865</td> <td> 0.000</td> <td>    0.070</td> <td>    0.087</td>\n",
       "</tr>\n",
       "<tr>\n",
       "  <th>Accruals</th> <td>    0.0243</td> <td>    0.005</td> <td>    5.154</td> <td> 0.000</td> <td>    0.015</td> <td>    0.034</td>\n",
       "</tr>\n",
       "</table>\n",
       "<table class=\"simpletable\">\n",
       "<tr>\n",
       "  <th>Omnibus:</th>       <td>5544651.053</td> <th>  Durbin-Watson:     </th>    <td>   2.060</td>    \n",
       "</tr>\n",
       "<tr>\n",
       "  <th>Prob(Omnibus):</th>   <td> 0.000</td>    <th>  Jarque-Bera (JB):  </th> <td>24843684861.071</td>\n",
       "</tr>\n",
       "<tr>\n",
       "  <th>Skew:</th>            <td> 7.788</td>    <th>  Prob(JB):          </th>    <td>    0.00</td>    \n",
       "</tr>\n",
       "<tr>\n",
       "  <th>Kurtosis:</th>        <td>397.500</td>   <th>  Cond. No.          </th>    <td>    327.</td>    \n",
       "</tr>\n",
       "</table><br/><br/>Notes:<br/>[1] Standard Errors assume that the covariance matrix of the errors is correctly specified."
      ],
      "text/plain": [
       "<class 'statsmodels.iolib.summary.Summary'>\n",
       "\"\"\"\n",
       "                            OLS Regression Results                            \n",
       "==============================================================================\n",
       "Dep. Variable:                  ExRet   R-squared:                       0.078\n",
       "Model:                            OLS   Adj. R-squared:                  0.078\n",
       "Method:                 Least Squares   F-statistic:                 8.128e+04\n",
       "Date:                Wed, 26 Jul 2023   Prob (F-statistic):               0.00\n",
       "Time:                        12:18:33   Log-Likelihood:             1.5869e+06\n",
       "No. Observations:             3825220   AIC:                        -3.174e+06\n",
       "Df Residuals:                 3825215   BIC:                        -3.174e+06\n",
       "Df Model:                           4                                         \n",
       "Covariance Type:            nonrobust                                         \n",
       "==============================================================================\n",
       "                 coef    std err          t      P>|t|      [0.025      0.975]\n",
       "------------------------------------------------------------------------------\n",
       "const          0.0001   9.78e-05      1.463      0.144   -4.86e-05       0.000\n",
       "Mkt-RF         0.0103   1.82e-05    569.833      0.000       0.010       0.010\n",
       "SMB            0.0732      0.005     13.697      0.000       0.063       0.084\n",
       "HML            0.0785      0.004     17.865      0.000       0.070       0.087\n",
       "Accruals       0.0243      0.005      5.154      0.000       0.015       0.034\n",
       "==============================================================================\n",
       "Omnibus:                  5544651.053   Durbin-Watson:                   2.060\n",
       "Prob(Omnibus):                  0.000   Jarque-Bera (JB):      24843684861.071\n",
       "Skew:                           7.788   Prob(JB):                         0.00\n",
       "Kurtosis:                     397.500   Cond. No.                         327.\n",
       "==============================================================================\n",
       "\n",
       "Notes:\n",
       "[1] Standard Errors assume that the covariance matrix of the errors is correctly specified.\n",
       "\"\"\""
      ]
     },
     "execution_count": 59,
     "metadata": {},
     "output_type": "execute_result"
    }
   ],
   "source": [
    "###=== FM SECOND STAGE FOR BASE SCENARIO ===###\n",
    "\n",
    "# Merging the DFs\n",
    "base_merged_2sls_df = pd.merge(all_df, base, left_on='PERMNO', right_index=True)\n",
    "base_merged_2sls_df = base_merged_2sls_df.rename(columns={'Mkt-RF_y': 'Mkt-RF', 'SMB_y': 'SMB', 'HML_y': 'HML', 'Accruals_y': 'Accruals'})[['PERMNO', 'ExRet', 'Mkt-RF', 'SMB', 'HML', 'Accruals']]\n",
    "\n",
    "# Set the Variables \n",
    "Y = base_merged_2sls_df['ExRet']\n",
    "X = sm.add_constant(base_merged_2sls_df[['Mkt-RF', 'SMB', 'HML', 'Accruals']])\n",
    "\n",
    "# Perform cross-sectional regression\n",
    "res = sm.OLS(Y, X, missing='drop').fit()\n",
    "res.summary()"
   ]
  },
  {
   "cell_type": "code",
   "execution_count": 69,
   "metadata": {},
   "outputs": [],
   "source": [
    "###=== FM SECOND STAGE FOR SIMULATIONS ===###\n",
    "\n",
    "# Creating dictionary to hold the values\n",
    "d = {}\n",
    "\n",
    "# Loop for a number of simulations \n",
    "for i in range(len(simulations)):\n",
    "    merged_2sls_df = pd.merge(all_df, simulations[i], left_on='PERMNO', right_on='PERMNO')\n",
    "    merged_2sls_df = merged_2sls_df.rename(columns={'Mkt-RF_y': 'Mkt-RF', 'SMB_y': 'SMB', 'HML_y': 'HML', 'Accruals_y': 'Accruals'})[['PERMNO', 'ExRet', 'Mkt-RF', 'SMB', 'HML', 'Accruals']]\n",
    "    \n",
    "    # Set the Variables \n",
    "    Y = merged_2sls_df['ExRet']\n",
    "    X = sm.add_constant(merged_2sls_df[['Mkt-RF', 'SMB', 'HML', 'Accruals']])\n",
    "\n",
    "    # Perform cross-sectional regression\n",
    "    res = sm.OLS(Y, X, missing='drop').fit()\n",
    "\n",
    "    # return the parameters\n",
    "    d[i] = res.tvalues[0:]\n"
   ]
  },
  {
   "cell_type": "code",
   "execution_count": 70,
   "metadata": {},
   "outputs": [],
   "source": [
    "# Converting to DF \n",
    "distributions_tvals = pd.DataFrame(d)"
   ]
  },
  {
   "cell_type": "code",
   "execution_count": 71,
   "metadata": {},
   "outputs": [
    {
     "data": {
      "text/plain": [
       "<AxesSubplot: xlabel='Accruals', ylabel='Density'>"
      ]
     },
     "execution_count": 71,
     "metadata": {},
     "output_type": "execute_result"
    },
    {
     "data": {
      "image/png": "[encoded data removed]",
      "text/plain": [
       "<Figure size 432x288 with 1 Axes>"
      ]
     },
     "metadata": {
      "needs_background": "light"
     },
     "output_type": "display_data"
    }
   ],
   "source": [
    "sns.distplot(distributions_tvals.T['Accruals'])"
   ]
  },
  {
   "attachments": {},
   "cell_type": "markdown",
   "metadata": {},
   "source": [
    "## Simulation to CSV"
   ]
  },
  {
   "cell_type": "code",
   "execution_count": null,
   "metadata": {},
   "outputs": [],
   "source": [
    "# for i in range(100):\n",
    "#     simulations[i].unstack().to_csv(f'/Users/nicolasharvie/Documents/HEC_Work/Empirical_Finance/Research/OEF/CrossSection-python/Main/Codebase/Randomization/Simulations/Simulation{i}.csv')\n",
    "    "
   ]
  }
 ],
 "metadata": {
  "kernelspec": {
   "display_name": "base",
   "language": "python",
   "name": "python3"
  },
  "language_info": {
   "codemirror_mode": {
    "name": "ipython",
    "version": 3
   },
   "file_extension": ".py",
   "mimetype": "text/x-python",
   "name": "python",
   "nbconvert_exporter": "python",
   "pygments_lexer": "ipython3",
   "version": "3.9.12"
  },
  "orig_nbformat": 4,
  "vscode": {
   "interpreter": {
    "hash": "15b0d29f8539af148d961be3b2ebf8daa9cfc2f989fa7f40b7a4b5e494ac056b"
   }
  }
 },
 "nbformat": 4,
 "nbformat_minor": 2
}
